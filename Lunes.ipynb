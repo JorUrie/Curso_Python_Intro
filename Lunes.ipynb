{
 "cells": [
  {
   "cell_type": "markdown",
   "id": "19f79e5e",
   "metadata": {},
   "source": [
    "# Titulo grande\n",
    "## Taller de Python\n",
    "### Introduccion\n",
    "####### Mi primer codigo\n",
    "Mi primer codigo en python"
   ]
  },
  {
   "cell_type": "code",
   "execution_count": 1,
   "id": "30dde132",
   "metadata": {},
   "outputs": [
    {
     "name": "stdout",
     "output_type": "stream",
     "text": [
      "Hola mundo\n",
      "Hola mundo 2.0\n",
      "6\n"
     ]
    }
   ],
   "source": [
    "print('Hola mundo')\n",
    "print(\"Hola mundo 2.0\")\n",
    "a = 6\n",
    "print(a)"
   ]
  },
  {
   "cell_type": "code",
   "execution_count": 2,
   "id": "b0e57372",
   "metadata": {},
   "outputs": [
    {
     "name": "stdout",
     "output_type": "stream",
     "text": [
      "La variable a es de tipo:  <class 'int'> El valor es:  4\n",
      "La variable b es de tipo:  <class 'float'> El valor es:  2.7\n",
      "La variable d es de tipo:  <class 'str'> El valor es:  Hola mundo\n",
      "La variable e es de tipo:  <class 'bool'> El valor es:  True\n"
     ]
    }
   ],
   "source": [
    "# Vamos a ver el tipo de variable\n",
    "a = 4 # Tipo entero\n",
    "b = 2.7 # Tipo flotante\n",
    "c = a*b # No importa si multiplicas un float con un int, python lo puede interpretar\n",
    "d = 'Hola mundo'\n",
    "e = a>b\n",
    "print('La variable a es de tipo: ', type(a), 'El valor es: ', a)\n",
    "print('La variable b es de tipo: ', type(b), 'El valor es: ', b)\n",
    "print('La variable d es de tipo: ', type(d), 'El valor es: ', d)\n",
    "print('La variable e es de tipo: ', type(e), 'El valor es: ', e)"
   ]
  },
  {
   "cell_type": "code",
   "execution_count": 3,
   "id": "e4c8e830",
   "metadata": {},
   "outputs": [
    {
     "name": "stdout",
     "output_type": "stream",
     "text": [
      "La suma de dos numero:  11.5\n",
      "La resta de dos numero:  -6.5\n",
      "La multiplicacion de dos numero:  22.5\n",
      "La division de dos numero:  0.2777777777777778\n"
     ]
    }
   ],
   "source": [
    "a = 2.5\n",
    "b = 9\n",
    "print('La suma de dos numero: ', a+b)\n",
    "print('La resta de dos numero: ', a-b)\n",
    "print('La multiplicacion de dos numero: ', a*b)\n",
    "print('La division de dos numero: ', a/b)"
   ]
  },
  {
   "cell_type": "code",
   "execution_count": 4,
   "id": "9af46787",
   "metadata": {},
   "outputs": [
    {
     "name": "stdout",
     "output_type": "stream",
     "text": [
      "<class 'list'> La lista con la variables vistas anteriormente es:  [2.5, 9, 10.8, 'Hola mundo', True, 'Gato', 4.9]\n"
     ]
    }
   ],
   "source": [
    "# Listas\n",
    "# Los elementos de una lista pueden ser variados\n",
    "lista = [a, b, c, d, e, \"Gato\", 4.9]\n",
    "print(type(lista), 'La lista con la variables vistas anteriormente es: ', lista)"
   ]
  },
  {
   "cell_type": "code",
   "execution_count": 5,
   "id": "b3def6d7",
   "metadata": {},
   "outputs": [
    {
     "name": "stdout",
     "output_type": "stream",
     "text": [
      "2.5\n"
     ]
    }
   ],
   "source": [
    "# Python cuenta los elementos de una lista a partir de cero\n",
    "print(lista[0])"
   ]
  },
  {
   "cell_type": "code",
   "execution_count": 6,
   "id": "1eaf38ee",
   "metadata": {},
   "outputs": [
    {
     "name": "stdout",
     "output_type": "stream",
     "text": [
      "['orange', 'apple', 'pear', 'banana', 'kiwi', 'apple', 'banana']\n"
     ]
    }
   ],
   "source": [
    "# Vamos a trabajar con una lista\n",
    "fruit = ['orange', 'apple', 'pear', 'banana', 'kiwi', 'apple', 'banana']\n",
    "print(fruit)"
   ]
  },
  {
   "cell_type": "code",
   "execution_count": 7,
   "id": "f4b87a9f",
   "metadata": {},
   "outputs": [
    {
     "data": {
      "text/plain": [
       "0"
      ]
     },
     "execution_count": 7,
     "metadata": {},
     "output_type": "execute_result"
    }
   ],
   "source": [
    "# Buscar un elemento que no existe en la lista\n",
    "fruit.count('Dog')"
   ]
  },
  {
   "cell_type": "code",
   "execution_count": 8,
   "id": "abbb6c5a",
   "metadata": {},
   "outputs": [
    {
     "data": {
      "text/plain": [
       "1"
      ]
     },
     "execution_count": 8,
     "metadata": {},
     "output_type": "execute_result"
    }
   ],
   "source": [
    "# Existe para los humanos en la posicion 1\n",
    "fruit.count('orange')"
   ]
  },
  {
   "cell_type": "code",
   "execution_count": 9,
   "id": "d547c7fb",
   "metadata": {},
   "outputs": [
    {
     "data": {
      "text/plain": [
       "0"
      ]
     },
     "execution_count": 9,
     "metadata": {},
     "output_type": "execute_result"
    }
   ],
   "source": [
    "# Existe para python en la posicion 0\n",
    "fruit.index('orange')"
   ]
  },
  {
   "cell_type": "code",
   "execution_count": 10,
   "id": "72171e9c",
   "metadata": {},
   "outputs": [
    {
     "data": {
      "text/plain": [
       "['banana', 'apple', 'kiwi', 'banana', 'pear', 'apple', 'orange']"
      ]
     },
     "execution_count": 10,
     "metadata": {},
     "output_type": "execute_result"
    }
   ],
   "source": [
    "# reverse funciona para invertir el orden de las listas\n",
    "fruit.reverse()\n",
    "fruit"
   ]
  },
  {
   "cell_type": "code",
   "execution_count": 11,
   "id": "6c0bc53c",
   "metadata": {},
   "outputs": [
    {
     "data": {
      "text/plain": [
       "['banana', 'apple', 'kiwi', 'banana', 'pear', 'apple', 'orange', 'grape']"
      ]
     },
     "execution_count": 11,
     "metadata": {},
     "output_type": "execute_result"
    }
   ],
   "source": [
    "# Agrega nuevos elementos a nuestra lista\n",
    "fruit.append('grape')\n",
    "fruit"
   ]
  },
  {
   "cell_type": "code",
   "execution_count": 12,
   "id": "4069831b",
   "metadata": {},
   "outputs": [
    {
     "data": {
      "text/plain": [
       "['apple', 'apple', 'banana', 'banana', 'grape', 'kiwi', 'orange', 'pear']"
      ]
     },
     "execution_count": 12,
     "metadata": {},
     "output_type": "execute_result"
    }
   ],
   "source": [
    "# Acomodando por orden alfabetico\n",
    "fruit.sort()\n",
    "fruit"
   ]
  },
  {
   "cell_type": "code",
   "execution_count": 13,
   "id": "590cf8e7",
   "metadata": {},
   "outputs": [
    {
     "data": {
      "text/plain": [
       "['apple', 'banana', 'banana', 'grape', 'kiwi', 'orange', 'pear']"
      ]
     },
     "execution_count": 13,
     "metadata": {},
     "output_type": "execute_result"
    }
   ],
   "source": [
    "# Eliminar un elemento de una lista\n",
    "fruit.pop(1)\n",
    "fruit"
   ]
  },
  {
   "cell_type": "markdown",
   "id": "d5354427",
   "metadata": {},
   "source": [
    "# Condiciones\n",
    "## if\n",
    "### if condición:\n",
    "  Cuerpo de la condición"
   ]
  },
  {
   "cell_type": "code",
   "execution_count": 14,
   "id": "2e461751",
   "metadata": {},
   "outputs": [
    {
     "name": "stdout",
     "output_type": "stream",
     "text": [
      "Escriba un numero positivo: 5\n"
     ]
    }
   ],
   "source": [
    "numero = int(input('Escriba un numero positivo: '))"
   ]
  },
  {
   "cell_type": "code",
   "execution_count": 15,
   "id": "62b4d87c",
   "metadata": {},
   "outputs": [
    {
     "name": "stdout",
     "output_type": "stream",
     "text": [
      "Ha escrito un numero positivo 5\n"
     ]
    }
   ],
   "source": [
    "# La condicion\n",
    "if numero < 0:\n",
    "    print('Eso no es un numero positivo')\n",
    "else:\n",
    "    print(f\"Ha escrito un numero positivo {numero}\")"
   ]
  },
  {
   "cell_type": "markdown",
   "id": "502ee66c",
   "metadata": {},
   "source": [
    "if condición_1:\n",
    "    bloque 1\n",
    "else:\n",
    "    if condición_2:\n",
    "        bloque 2\n",
    "    else:\n",
    "        bloque 3"
   ]
  },
  {
   "cell_type": "markdown",
   "id": "77ac7b2d",
   "metadata": {},
   "source": [
    "if condición_1:\n",
    "    bloque 1\n",
    "elif condición_2:\n",
    "    bloque 2\n",
    "else:\n",
    "    bloque 3"
   ]
  },
  {
   "cell_type": "code",
   "execution_count": 16,
   "id": "7d919da1",
   "metadata": {},
   "outputs": [
    {
     "name": "stdout",
     "output_type": "stream",
     "text": [
      "¿Cuántos años tienes?34\n",
      "Usted es mayor de edad\n"
     ]
    }
   ],
   "source": [
    "edad = int(input('¿Cuántos años tienes?'))\n",
    "if edad > 18:\n",
    "    print('Usted es mayor de edad')\n",
    "elif edad < 0:\n",
    "    print('No se puede tener edad negativa')\n",
    "else:\n",
    "    print('Usted es menor de edad')"
   ]
  },
  {
   "cell_type": "code",
   "execution_count": 17,
   "id": "ff6728bd",
   "metadata": {},
   "outputs": [
    {
     "name": "stdout",
     "output_type": "stream",
     "text": [
      "Este programa combina colores\n",
      "r.Rojo       a.Azul\n",
      "Escribe el primer colorv\n",
      "v. Verde     r.Rojo\n",
      "Elija otro colorr\n",
      "La mezcla de Azul y Rojo produce Magenta\n",
      "Hasta luego\n"
     ]
    }
   ],
   "source": [
    "# Combinacion de colores\n",
    "'''Rojo + Azul = Magenta\n",
    "Rojo + Verde = Amarillo\n",
    "Azul + Verde = Cian\n",
    "Azul + Rojo = Magenta'''\n",
    "print(\"Este programa combina colores\")\n",
    "print('r.Rojo       a.Azul')\n",
    "primero = input('Escribe el primer color')\n",
    "if primero == 'r':\n",
    "    print('a.Azul    v.Verde')\n",
    "    segundo = input('Escribe el segundo color')\n",
    "    if segundo == 'a':\n",
    "        print('El color producido es Magenta')\n",
    "    else:\n",
    "        print(' El color producido es Amarillo')\n",
    "else:   \n",
    "    print('v. Verde     r.Rojo')\n",
    "    segundo = input('Elija otro color')\n",
    "    if segundo == 'v':\n",
    "        print('La mezcla de Azul y Verde es Cian')\n",
    "    else:\n",
    "        print('La mezcla de Azul y Rojo produce Magenta')\n",
    "print('Hasta luego')"
   ]
  },
  {
   "cell_type": "code",
   "execution_count": null,
   "id": "d9057da5",
   "metadata": {},
   "outputs": [],
   "source": []
  }
 ],
 "metadata": {
  "kernelspec": {
   "display_name": "Python 3 (ipykernel)",
   "language": "python",
   "name": "python3"
  },
  "language_info": {
   "codemirror_mode": {
    "name": "ipython",
    "version": 3
   },
   "file_extension": ".py",
   "mimetype": "text/x-python",
   "name": "python",
   "nbconvert_exporter": "python",
   "pygments_lexer": "ipython3",
   "version": "3.9.13"
  }
 },
 "nbformat": 4,
 "nbformat_minor": 5
}
